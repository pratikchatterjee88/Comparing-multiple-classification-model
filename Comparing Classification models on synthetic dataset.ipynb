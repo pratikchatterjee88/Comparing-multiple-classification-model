{
 "cells": [
  {
   "cell_type": "markdown",
   "metadata": {},
   "source": [
    "### 1. Make Synthetic Data\n"
   ]
  },
  {
   "cell_type": "code",
   "execution_count": 58,
   "metadata": {},
   "outputs": [],
   "source": [
    "# import the packages\n",
    "from sklearn.datasets import make_classification"
   ]
  },
  {
   "cell_type": "code",
   "execution_count": 59,
   "metadata": {},
   "outputs": [],
   "source": [
    "# Generate the dataset\n",
    "\n",
    "X, Y= make_classification(n_samples=1000,n_features=5, n_classes=2, n_redundant=0, random_state=1)"
   ]
  },
  {
   "cell_type": "code",
   "execution_count": 64,
   "metadata": {},
   "outputs": [
    {
     "data": {
      "text/html": [
       "<div>\n",
       "<style scoped>\n",
       "    .dataframe tbody tr th:only-of-type {\n",
       "        vertical-align: middle;\n",
       "    }\n",
       "\n",
       "    .dataframe tbody tr th {\n",
       "        vertical-align: top;\n",
       "    }\n",
       "\n",
       "    .dataframe thead th {\n",
       "        text-align: right;\n",
       "    }\n",
       "</style>\n",
       "<table border=\"1\" class=\"dataframe\">\n",
       "  <thead>\n",
       "    <tr style=\"text-align: right;\">\n",
       "      <th></th>\n",
       "      <th>0</th>\n",
       "      <th>1</th>\n",
       "      <th>2</th>\n",
       "      <th>3</th>\n",
       "      <th>4</th>\n",
       "    </tr>\n",
       "  </thead>\n",
       "  <tbody>\n",
       "    <tr>\n",
       "      <th>0</th>\n",
       "      <td>-0.210801</td>\n",
       "      <td>-1.271874</td>\n",
       "      <td>-0.254311</td>\n",
       "      <td>-0.353635</td>\n",
       "      <td>1.202059</td>\n",
       "    </tr>\n",
       "    <tr>\n",
       "      <th>1</th>\n",
       "      <td>0.063762</td>\n",
       "      <td>-0.216813</td>\n",
       "      <td>-0.831148</td>\n",
       "      <td>-0.840287</td>\n",
       "      <td>0.333293</td>\n",
       "    </tr>\n",
       "    <tr>\n",
       "      <th>2</th>\n",
       "      <td>1.632531</td>\n",
       "      <td>-1.376652</td>\n",
       "      <td>-0.762185</td>\n",
       "      <td>-2.288838</td>\n",
       "      <td>1.070726</td>\n",
       "    </tr>\n",
       "    <tr>\n",
       "      <th>3</th>\n",
       "      <td>1.449072</td>\n",
       "      <td>0.065417</td>\n",
       "      <td>-0.397411</td>\n",
       "      <td>0.591448</td>\n",
       "      <td>0.706335</td>\n",
       "    </tr>\n",
       "    <tr>\n",
       "      <th>4</th>\n",
       "      <td>-1.603636</td>\n",
       "      <td>-0.465186</td>\n",
       "      <td>0.011318</td>\n",
       "      <td>0.796493</td>\n",
       "      <td>1.691010</td>\n",
       "    </tr>\n",
       "    <tr>\n",
       "      <th>...</th>\n",
       "      <td>...</td>\n",
       "      <td>...</td>\n",
       "      <td>...</td>\n",
       "      <td>...</td>\n",
       "      <td>...</td>\n",
       "    </tr>\n",
       "    <tr>\n",
       "      <th>995</th>\n",
       "      <td>-0.861375</td>\n",
       "      <td>0.447175</td>\n",
       "      <td>-0.993981</td>\n",
       "      <td>-0.012037</td>\n",
       "      <td>-1.329708</td>\n",
       "    </tr>\n",
       "    <tr>\n",
       "      <th>996</th>\n",
       "      <td>-1.209423</td>\n",
       "      <td>-0.443572</td>\n",
       "      <td>0.815926</td>\n",
       "      <td>-0.025858</td>\n",
       "      <td>2.022576</td>\n",
       "    </tr>\n",
       "    <tr>\n",
       "      <th>997</th>\n",
       "      <td>1.474360</td>\n",
       "      <td>0.144510</td>\n",
       "      <td>-1.370430</td>\n",
       "      <td>-0.760725</td>\n",
       "      <td>0.155500</td>\n",
       "    </tr>\n",
       "    <tr>\n",
       "      <th>998</th>\n",
       "      <td>-0.549487</td>\n",
       "      <td>-0.168662</td>\n",
       "      <td>0.007560</td>\n",
       "      <td>-1.839101</td>\n",
       "      <td>0.294740</td>\n",
       "    </tr>\n",
       "    <tr>\n",
       "      <th>999</th>\n",
       "      <td>-1.274033</td>\n",
       "      <td>0.007260</td>\n",
       "      <td>-0.454928</td>\n",
       "      <td>0.855420</td>\n",
       "      <td>1.986539</td>\n",
       "    </tr>\n",
       "  </tbody>\n",
       "</table>\n",
       "<p>1000 rows × 5 columns</p>\n",
       "</div>"
      ],
      "text/plain": [
       "            0         1         2         3         4\n",
       "0   -0.210801 -1.271874 -0.254311 -0.353635  1.202059\n",
       "1    0.063762 -0.216813 -0.831148 -0.840287  0.333293\n",
       "2    1.632531 -1.376652 -0.762185 -2.288838  1.070726\n",
       "3    1.449072  0.065417 -0.397411  0.591448  0.706335\n",
       "4   -1.603636 -0.465186  0.011318  0.796493  1.691010\n",
       "..        ...       ...       ...       ...       ...\n",
       "995 -0.861375  0.447175 -0.993981 -0.012037 -1.329708\n",
       "996 -1.209423 -0.443572  0.815926 -0.025858  2.022576\n",
       "997  1.474360  0.144510 -1.370430 -0.760725  0.155500\n",
       "998 -0.549487 -0.168662  0.007560 -1.839101  0.294740\n",
       "999 -1.274033  0.007260 -0.454928  0.855420  1.986539\n",
       "\n",
       "[1000 rows x 5 columns]"
      ]
     },
     "execution_count": 64,
     "metadata": {},
     "output_type": "execute_result"
    }
   ],
   "source": [
    "pd.DataFrame(X)\n",
    "\n"
   ]
  },
  {
   "cell_type": "code",
   "execution_count": 65,
   "metadata": {},
   "outputs": [
    {
     "name": "stdout",
     "output_type": "stream",
     "text": [
      "(1000, 5) (1000,)\n"
     ]
    }
   ],
   "source": [
    "# Examine the dataset\n",
    "\n",
    "print(X.shape, Y.shape)"
   ]
  },
  {
   "cell_type": "markdown",
   "metadata": {},
   "source": [
    "### 2. Spliting the dataset"
   ]
  },
  {
   "cell_type": "code",
   "execution_count": 66,
   "metadata": {},
   "outputs": [],
   "source": [
    "from sklearn.model_selection import train_test_split"
   ]
  },
  {
   "cell_type": "code",
   "execution_count": 67,
   "metadata": {},
   "outputs": [],
   "source": [
    "X_train, X_test, Y_train, Y_test=train_test_split(X, Y, test_size=0.2)"
   ]
  },
  {
   "cell_type": "code",
   "execution_count": 68,
   "metadata": {},
   "outputs": [
    {
     "data": {
      "text/plain": [
       "((800, 5), (200, 5), (800,), (200,))"
      ]
     },
     "execution_count": 68,
     "metadata": {},
     "output_type": "execute_result"
    }
   ],
   "source": [
    "# Examine the data\n",
    "\n",
    "X_train.shape, X_test.shape, Y_train.shape, Y_test.shape"
   ]
  },
  {
   "cell_type": "code",
   "execution_count": null,
   "metadata": {},
   "outputs": [],
   "source": []
  },
  {
   "cell_type": "markdown",
   "metadata": {},
   "source": [
    "### Building the Classification Models"
   ]
  },
  {
   "cell_type": "code",
   "execution_count": 69,
   "metadata": {},
   "outputs": [],
   "source": [
    "import pandas as pd\n",
    "from sklearn.neural_network import MLPClassifier\n",
    "from sklearn.neighbors import KNeighborsClassifier\n",
    "from sklearn.svm import SVC\n",
    "from sklearn.gaussian_process import GaussianProcessClassifier\n",
    "from sklearn.ensemble import GradientBoostingClassifier,ExtraTreesClassifier,RandomForestClassifier,AdaBoostClassifier\n",
    "from sklearn.gaussian_process.kernels import RBF\n",
    "from sklearn.tree import DecisionTreeClassifier\n",
    "from sklearn.naive_bayes import GaussianNB\n",
    "from sklearn.discriminant_analysis import QuadraticDiscriminantAnalysis\n",
    "from sklearn.linear_model import SGDClassifier"
   ]
  },
  {
   "cell_type": "code",
   "execution_count": 70,
   "metadata": {},
   "outputs": [],
   "source": [
    "# Defining learning classifiers\n",
    "\n",
    "names=[\"Nearest_Neighbours\", \"Linear_SVM\", \"Polynomial_SVM\", \"RBF_SVM\", \"Gaussian_Process\", \"Gradient_Boosting\",\n",
    "      \"Decision_Tree\", \"Extra_Trees\",\"Random_Forest\", \"Neural_Net\", \"AdaBoost\", \"Naive_Bayes\", \"QDA\", \"SGD\" ]\n",
    "\n",
    "classifiers=[\n",
    "    KNeighborsClassifier(3),\n",
    "    SVC(kernel=\"linear\", C=0.025),\n",
    "    SVC(kernel=\"poly\", degree=3, C=0.025),\n",
    "    SVC(kernel=\"rbf\", C=1, gamma=2),\n",
    "    GaussianProcessClassifier(1.0 * RBF(1.0)),\n",
    "    GradientBoostingClassifier(n_estimators=100, learning_rate=1.0),\n",
    "    DecisionTreeClassifier(max_depth=5),\n",
    "    ExtraTreesClassifier(n_estimators=10,min_samples_split=2),\n",
    "    RandomForestClassifier(max_depth=5, n_estimators=100 ),\n",
    "    MLPClassifier(alpha=1, max_iter=1000),\n",
    "    AdaBoostClassifier(n_estimators=100),\n",
    "    GaussianNB(),\n",
    "    QuadraticDiscriminantAnalysis(),\n",
    "    SGDClassifier(loss=\"hinge\", penalty=\"l2\")\n",
    "]"
   ]
  },
  {
   "cell_type": "markdown",
   "metadata": {},
   "source": [
    "### Building Model, Apply Model on Test Data & Record Accuracy score"
   ]
  },
  {
   "cell_type": "code",
   "execution_count": 71,
   "metadata": {},
   "outputs": [],
   "source": [
    "# iterate over classifiers\n",
    "\n",
    "scores=[]\n",
    "\n",
    "for name, clf in zip(names, classifiers):\n",
    "    clf.fit(X_train, Y_train)\n",
    "    score=clf.score(X_test, Y_test)\n",
    "    scores.append(score)"
   ]
  },
  {
   "cell_type": "code",
   "execution_count": 72,
   "metadata": {},
   "outputs": [
    {
     "data": {
      "text/plain": [
       "[0.845,\n",
       " 0.84,\n",
       " 0.82,\n",
       " 0.84,\n",
       " 0.865,\n",
       " 0.84,\n",
       " 0.855,\n",
       " 0.845,\n",
       " 0.85,\n",
       " 0.86,\n",
       " 0.84,\n",
       " 0.84,\n",
       " 0.85,\n",
       " 0.82]"
      ]
     },
     "execution_count": 72,
     "metadata": {},
     "output_type": "execute_result"
    }
   ],
   "source": [
    "scores"
   ]
  },
  {
   "cell_type": "markdown",
   "metadata": {},
   "source": [
    "### Analysis of Model Performance"
   ]
  },
  {
   "cell_type": "code",
   "execution_count": 73,
   "metadata": {},
   "outputs": [
    {
     "data": {
      "text/html": [
       "<div>\n",
       "<style scoped>\n",
       "    .dataframe tbody tr th:only-of-type {\n",
       "        vertical-align: middle;\n",
       "    }\n",
       "\n",
       "    .dataframe tbody tr th {\n",
       "        vertical-align: top;\n",
       "    }\n",
       "\n",
       "    .dataframe thead th {\n",
       "        text-align: right;\n",
       "    }\n",
       "</style>\n",
       "<table border=\"1\" class=\"dataframe\">\n",
       "  <thead>\n",
       "    <tr style=\"text-align: right;\">\n",
       "      <th></th>\n",
       "      <th>Name</th>\n",
       "      <th>Scores</th>\n",
       "    </tr>\n",
       "  </thead>\n",
       "  <tbody>\n",
       "    <tr>\n",
       "      <th>0</th>\n",
       "      <td>Nearest_Neighbours</td>\n",
       "      <td>0.845</td>\n",
       "    </tr>\n",
       "    <tr>\n",
       "      <th>1</th>\n",
       "      <td>Linear_SVM</td>\n",
       "      <td>0.840</td>\n",
       "    </tr>\n",
       "    <tr>\n",
       "      <th>2</th>\n",
       "      <td>Polynomial_SVM</td>\n",
       "      <td>0.820</td>\n",
       "    </tr>\n",
       "    <tr>\n",
       "      <th>3</th>\n",
       "      <td>RBF_SVM</td>\n",
       "      <td>0.840</td>\n",
       "    </tr>\n",
       "    <tr>\n",
       "      <th>4</th>\n",
       "      <td>Gaussian_Process</td>\n",
       "      <td>0.865</td>\n",
       "    </tr>\n",
       "    <tr>\n",
       "      <th>5</th>\n",
       "      <td>Gradient_Boosting</td>\n",
       "      <td>0.840</td>\n",
       "    </tr>\n",
       "    <tr>\n",
       "      <th>6</th>\n",
       "      <td>Decision_Tree</td>\n",
       "      <td>0.855</td>\n",
       "    </tr>\n",
       "    <tr>\n",
       "      <th>7</th>\n",
       "      <td>Extra_Trees</td>\n",
       "      <td>0.845</td>\n",
       "    </tr>\n",
       "    <tr>\n",
       "      <th>8</th>\n",
       "      <td>Random_Forest</td>\n",
       "      <td>0.850</td>\n",
       "    </tr>\n",
       "    <tr>\n",
       "      <th>9</th>\n",
       "      <td>Neural_Net</td>\n",
       "      <td>0.860</td>\n",
       "    </tr>\n",
       "    <tr>\n",
       "      <th>10</th>\n",
       "      <td>AdaBoost</td>\n",
       "      <td>0.840</td>\n",
       "    </tr>\n",
       "    <tr>\n",
       "      <th>11</th>\n",
       "      <td>Naive_Bayes</td>\n",
       "      <td>0.840</td>\n",
       "    </tr>\n",
       "    <tr>\n",
       "      <th>12</th>\n",
       "      <td>QDA</td>\n",
       "      <td>0.850</td>\n",
       "    </tr>\n",
       "    <tr>\n",
       "      <th>13</th>\n",
       "      <td>SGD</td>\n",
       "      <td>0.820</td>\n",
       "    </tr>\n",
       "  </tbody>\n",
       "</table>\n",
       "</div>"
      ],
      "text/plain": [
       "                  Name  Scores\n",
       "0   Nearest_Neighbours   0.845\n",
       "1           Linear_SVM   0.840\n",
       "2       Polynomial_SVM   0.820\n",
       "3              RBF_SVM   0.840\n",
       "4     Gaussian_Process   0.865\n",
       "5    Gradient_Boosting   0.840\n",
       "6        Decision_Tree   0.855\n",
       "7          Extra_Trees   0.845\n",
       "8        Random_Forest   0.850\n",
       "9           Neural_Net   0.860\n",
       "10            AdaBoost   0.840\n",
       "11         Naive_Bayes   0.840\n",
       "12                 QDA   0.850\n",
       "13                 SGD   0.820"
      ]
     },
     "execution_count": 73,
     "metadata": {},
     "output_type": "execute_result"
    }
   ],
   "source": [
    "# import library\n",
    "import seaborn as sns\n",
    "\n",
    "# creating dataframe for model analysis\n",
    "\n",
    "df=pd.DataFrame()\n",
    "df['Name']=names\n",
    "df['Scores']=scores\n",
    "df"
   ]
  },
  {
   "cell_type": "markdown",
   "metadata": {},
   "source": [
    "### Comparing the models using visualisation"
   ]
  },
  {
   "cell_type": "code",
   "execution_count": 74,
   "metadata": {},
   "outputs": [
    {
     "data": {
      "text/html": [
       "<style  type=\"text/css\" >\n",
       "#T_d52bf6ac_d07a_11eb_b016_7478277e20e1row0_col1,#T_d52bf6ac_d07a_11eb_b016_7478277e20e1row7_col1{\n",
       "            background-color:  #68b368;\n",
       "            color:  #000000;\n",
       "        }#T_d52bf6ac_d07a_11eb_b016_7478277e20e1row1_col1,#T_d52bf6ac_d07a_11eb_b016_7478277e20e1row3_col1,#T_d52bf6ac_d07a_11eb_b016_7478277e20e1row5_col1,#T_d52bf6ac_d07a_11eb_b016_7478277e20e1row10_col1,#T_d52bf6ac_d07a_11eb_b016_7478277e20e1row11_col1{\n",
       "            background-color:  #83c083;\n",
       "            color:  #000000;\n",
       "        }#T_d52bf6ac_d07a_11eb_b016_7478277e20e1row2_col1,#T_d52bf6ac_d07a_11eb_b016_7478277e20e1row13_col1{\n",
       "            background-color:  #ebf3eb;\n",
       "            color:  #000000;\n",
       "        }#T_d52bf6ac_d07a_11eb_b016_7478277e20e1row4_col1{\n",
       "            background-color:  #008000;\n",
       "            color:  #f1f1f1;\n",
       "        }#T_d52bf6ac_d07a_11eb_b016_7478277e20e1row6_col1{\n",
       "            background-color:  #349934;\n",
       "            color:  #000000;\n",
       "        }#T_d52bf6ac_d07a_11eb_b016_7478277e20e1row8_col1,#T_d52bf6ac_d07a_11eb_b016_7478277e20e1row12_col1{\n",
       "            background-color:  #4ea64e;\n",
       "            color:  #000000;\n",
       "        }#T_d52bf6ac_d07a_11eb_b016_7478277e20e1row9_col1{\n",
       "            background-color:  #1a8d1a;\n",
       "            color:  #000000;\n",
       "        }</style><table id=\"T_d52bf6ac_d07a_11eb_b016_7478277e20e1\" ><thead>    <tr>        <th class=\"blank level0\" ></th>        <th class=\"col_heading level0 col0\" >Name</th>        <th class=\"col_heading level0 col1\" >Scores</th>    </tr></thead><tbody>\n",
       "                <tr>\n",
       "                        <th id=\"T_d52bf6ac_d07a_11eb_b016_7478277e20e1level0_row0\" class=\"row_heading level0 row0\" >0</th>\n",
       "                        <td id=\"T_d52bf6ac_d07a_11eb_b016_7478277e20e1row0_col0\" class=\"data row0 col0\" >Nearest_Neighbours</td>\n",
       "                        <td id=\"T_d52bf6ac_d07a_11eb_b016_7478277e20e1row0_col1\" class=\"data row0 col1\" >0.845000</td>\n",
       "            </tr>\n",
       "            <tr>\n",
       "                        <th id=\"T_d52bf6ac_d07a_11eb_b016_7478277e20e1level0_row1\" class=\"row_heading level0 row1\" >1</th>\n",
       "                        <td id=\"T_d52bf6ac_d07a_11eb_b016_7478277e20e1row1_col0\" class=\"data row1 col0\" >Linear_SVM</td>\n",
       "                        <td id=\"T_d52bf6ac_d07a_11eb_b016_7478277e20e1row1_col1\" class=\"data row1 col1\" >0.840000</td>\n",
       "            </tr>\n",
       "            <tr>\n",
       "                        <th id=\"T_d52bf6ac_d07a_11eb_b016_7478277e20e1level0_row2\" class=\"row_heading level0 row2\" >2</th>\n",
       "                        <td id=\"T_d52bf6ac_d07a_11eb_b016_7478277e20e1row2_col0\" class=\"data row2 col0\" >Polynomial_SVM</td>\n",
       "                        <td id=\"T_d52bf6ac_d07a_11eb_b016_7478277e20e1row2_col1\" class=\"data row2 col1\" >0.820000</td>\n",
       "            </tr>\n",
       "            <tr>\n",
       "                        <th id=\"T_d52bf6ac_d07a_11eb_b016_7478277e20e1level0_row3\" class=\"row_heading level0 row3\" >3</th>\n",
       "                        <td id=\"T_d52bf6ac_d07a_11eb_b016_7478277e20e1row3_col0\" class=\"data row3 col0\" >RBF_SVM</td>\n",
       "                        <td id=\"T_d52bf6ac_d07a_11eb_b016_7478277e20e1row3_col1\" class=\"data row3 col1\" >0.840000</td>\n",
       "            </tr>\n",
       "            <tr>\n",
       "                        <th id=\"T_d52bf6ac_d07a_11eb_b016_7478277e20e1level0_row4\" class=\"row_heading level0 row4\" >4</th>\n",
       "                        <td id=\"T_d52bf6ac_d07a_11eb_b016_7478277e20e1row4_col0\" class=\"data row4 col0\" >Gaussian_Process</td>\n",
       "                        <td id=\"T_d52bf6ac_d07a_11eb_b016_7478277e20e1row4_col1\" class=\"data row4 col1\" >0.865000</td>\n",
       "            </tr>\n",
       "            <tr>\n",
       "                        <th id=\"T_d52bf6ac_d07a_11eb_b016_7478277e20e1level0_row5\" class=\"row_heading level0 row5\" >5</th>\n",
       "                        <td id=\"T_d52bf6ac_d07a_11eb_b016_7478277e20e1row5_col0\" class=\"data row5 col0\" >Gradient_Boosting</td>\n",
       "                        <td id=\"T_d52bf6ac_d07a_11eb_b016_7478277e20e1row5_col1\" class=\"data row5 col1\" >0.840000</td>\n",
       "            </tr>\n",
       "            <tr>\n",
       "                        <th id=\"T_d52bf6ac_d07a_11eb_b016_7478277e20e1level0_row6\" class=\"row_heading level0 row6\" >6</th>\n",
       "                        <td id=\"T_d52bf6ac_d07a_11eb_b016_7478277e20e1row6_col0\" class=\"data row6 col0\" >Decision_Tree</td>\n",
       "                        <td id=\"T_d52bf6ac_d07a_11eb_b016_7478277e20e1row6_col1\" class=\"data row6 col1\" >0.855000</td>\n",
       "            </tr>\n",
       "            <tr>\n",
       "                        <th id=\"T_d52bf6ac_d07a_11eb_b016_7478277e20e1level0_row7\" class=\"row_heading level0 row7\" >7</th>\n",
       "                        <td id=\"T_d52bf6ac_d07a_11eb_b016_7478277e20e1row7_col0\" class=\"data row7 col0\" >Extra_Trees</td>\n",
       "                        <td id=\"T_d52bf6ac_d07a_11eb_b016_7478277e20e1row7_col1\" class=\"data row7 col1\" >0.845000</td>\n",
       "            </tr>\n",
       "            <tr>\n",
       "                        <th id=\"T_d52bf6ac_d07a_11eb_b016_7478277e20e1level0_row8\" class=\"row_heading level0 row8\" >8</th>\n",
       "                        <td id=\"T_d52bf6ac_d07a_11eb_b016_7478277e20e1row8_col0\" class=\"data row8 col0\" >Random_Forest</td>\n",
       "                        <td id=\"T_d52bf6ac_d07a_11eb_b016_7478277e20e1row8_col1\" class=\"data row8 col1\" >0.850000</td>\n",
       "            </tr>\n",
       "            <tr>\n",
       "                        <th id=\"T_d52bf6ac_d07a_11eb_b016_7478277e20e1level0_row9\" class=\"row_heading level0 row9\" >9</th>\n",
       "                        <td id=\"T_d52bf6ac_d07a_11eb_b016_7478277e20e1row9_col0\" class=\"data row9 col0\" >Neural_Net</td>\n",
       "                        <td id=\"T_d52bf6ac_d07a_11eb_b016_7478277e20e1row9_col1\" class=\"data row9 col1\" >0.860000</td>\n",
       "            </tr>\n",
       "            <tr>\n",
       "                        <th id=\"T_d52bf6ac_d07a_11eb_b016_7478277e20e1level0_row10\" class=\"row_heading level0 row10\" >10</th>\n",
       "                        <td id=\"T_d52bf6ac_d07a_11eb_b016_7478277e20e1row10_col0\" class=\"data row10 col0\" >AdaBoost</td>\n",
       "                        <td id=\"T_d52bf6ac_d07a_11eb_b016_7478277e20e1row10_col1\" class=\"data row10 col1\" >0.840000</td>\n",
       "            </tr>\n",
       "            <tr>\n",
       "                        <th id=\"T_d52bf6ac_d07a_11eb_b016_7478277e20e1level0_row11\" class=\"row_heading level0 row11\" >11</th>\n",
       "                        <td id=\"T_d52bf6ac_d07a_11eb_b016_7478277e20e1row11_col0\" class=\"data row11 col0\" >Naive_Bayes</td>\n",
       "                        <td id=\"T_d52bf6ac_d07a_11eb_b016_7478277e20e1row11_col1\" class=\"data row11 col1\" >0.840000</td>\n",
       "            </tr>\n",
       "            <tr>\n",
       "                        <th id=\"T_d52bf6ac_d07a_11eb_b016_7478277e20e1level0_row12\" class=\"row_heading level0 row12\" >12</th>\n",
       "                        <td id=\"T_d52bf6ac_d07a_11eb_b016_7478277e20e1row12_col0\" class=\"data row12 col0\" >QDA</td>\n",
       "                        <td id=\"T_d52bf6ac_d07a_11eb_b016_7478277e20e1row12_col1\" class=\"data row12 col1\" >0.850000</td>\n",
       "            </tr>\n",
       "            <tr>\n",
       "                        <th id=\"T_d52bf6ac_d07a_11eb_b016_7478277e20e1level0_row13\" class=\"row_heading level0 row13\" >13</th>\n",
       "                        <td id=\"T_d52bf6ac_d07a_11eb_b016_7478277e20e1row13_col0\" class=\"data row13 col0\" >SGD</td>\n",
       "                        <td id=\"T_d52bf6ac_d07a_11eb_b016_7478277e20e1row13_col1\" class=\"data row13 col1\" >0.820000</td>\n",
       "            </tr>\n",
       "    </tbody></table>"
      ],
      "text/plain": [
       "<pandas.io.formats.style.Styler at 0x20c560b7d00>"
      ]
     },
     "execution_count": 74,
     "metadata": {},
     "output_type": "execute_result"
    }
   ],
   "source": [
    "cm=sns.light_palette('green', as_cmap=True)\n",
    "s=df.style.background_gradient(cmap=cm)\n",
    "s"
   ]
  },
  {
   "cell_type": "code",
   "execution_count": 75,
   "metadata": {},
   "outputs": [
    {
     "data": {
      "image/png": "[encoded data removed]",
      "text/plain": [
       "<Figure size 432x288 with 1 Axes>"
      ]
     },
     "metadata": {},
     "output_type": "display_data"
    }
   ],
   "source": [
    "# creating a bar chart\n",
    "sns.set(style='whitegrid')\n",
    "ax=sns.barplot(y=\"Name\",x=\"Scores\", data=df)"
   ]
  },
  {
   "cell_type": "code",
   "execution_count": null,
   "metadata": {},
   "outputs": [],
   "source": []
  }
 ],
 "metadata": {
  "kernelspec": {
   "display_name": "Python 3",
   "language": "python",
   "name": "python3"
  },
  "language_info": {
   "codemirror_mode": {
    "name": "ipython",
    "version": 3
   },
   "file_extension": ".py",
   "mimetype": "text/x-python",
   "name": "python",
   "nbconvert_exporter": "python",
   "pygments_lexer": "ipython3",
   "version": "3.8.5"
  }
 },
 "nbformat": 4,
 "nbformat_minor": 4
}
